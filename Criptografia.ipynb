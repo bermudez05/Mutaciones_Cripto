{
 "cells": [
  {
   "cell_type": "markdown",
   "metadata": {},
   "source": [
    "<h2>Mutaciones y análisis de Brauer</h2>\n",
    "<p>El siguiente programa computa las semillas formuladas a partir del siguiente vector de polinomios  \n",
    "<math><mi>((1, x)</mi><mi>(1 + x, 1 + x + </mi><msup><mi>x</mi><mn>2</mn></msup><mi>))</mi></math> en el siguiente campo <math><mi>F = </mi><mfrac><msub><mi>Z</mi><mn>2</mn></msub><mi>/(1 + x + </mi><msup><mi>x</mi><mn>3</mn></msup></mi><mi>)</mi></mfrac></math></p> con todos los posibles vectores del campo, comparando asi la vida de cada semilla generada."
   ]
  },
  {
   "cell_type": "code",
   "execution_count": 73,
   "metadata": {},
   "outputs": [],
   "source": [
    "from sympy import symbols, Poly\n",
    "import numpy as np\n",
    "x = symbols('x')\n",
    "\n",
    "polinomio_1 = Poly(1, x)\n",
    "polinomio_2 = Poly(1 + x, x)\n",
    "polinomio_3 = Poly(x + x ** 2, x)\n",
    "polinomio_4 = Poly(x, x)\n",
    "\n",
    "pol1 = Poly(1, x)\n",
    "pol2 = Poly(x, x)\n",
    "pol3 = Poly(1 + x ** 2, x)\n",
    "pol4 = Poly(1 + x + x**2, x)\n",
    "\n",
    "polinomio_v =Poly(0,x)\n",
    "polinomio_v =Poly(1,x)\n",
    "\n",
    "A = np.array([[polinomio_1,polinomio_2],[polinomio_3,polinomio_4]])\n",
    "V = np.array([polinomio_v,polinomio_v]) # vector (0,0)\n",
    "S0 =np.array([[pol1,pol2],[pol3,pol4]])"
   ]
  },
  {
   "cell_type": "code",
   "execution_count": 21,
   "metadata": {},
   "outputs": [],
   "source": [
    "from sympy import symbols,Poly,GF,div\n",
    "import numpy as np\n",
    "# Definir el símbolo y el campo finito Z_2\n",
    "x = symbols('x')\n",
    "\n",
    "# Definición del campo Z_2\n",
    "campo_finito = GF(2)\n",
    "divisor = x**3 + x + 1\n",
    "\n",
    "polinomio_1 = Poly(1, x, domain= campo_finito)\n",
    "polinomio_2 = Poly(1 + x, x, domain= campo_finito)\n",
    "polinomio_3 = Poly(x + x ** 2, x, domain= campo_finito)\n",
    "polinomio_4 = Poly(x, x, domain = campo_finito)\n",
    "\n",
    "polinomio_5 = Poly(0,x, domain= campo_finito)\n",
    "\n",
    "matrix_A = np.array([[polinomio_1,polinomio_2],[polinomio_3,polinomio_4]])\n",
    "omega_1 = np.array([[polinomio_5],[polinomio_4]])\n"
   ]
  },
  {
   "cell_type": "code",
   "execution_count": 22,
   "metadata": {},
   "outputs": [],
   "source": [
    "def T_w_sk_1(matrix_A, omega_1, vs):\n",
    "    matrix_A_w1 = matrix_A.dot(omega_1)\n",
    "    return matrix_A_w1 + vs\n",
    "\n",
    "def omega_prime(omega_0, T_w):\n",
    "    return omega_0 + T_w\n"
   ]
  },
  {
   "cell_type": "code",
   "execution_count": 24,
   "metadata": {},
   "outputs": [
    {
     "data": {
      "text/plain": [
       "array([[Poly(x**2 + x + 1, x, modulus=2)],\n",
       "       [Poly(x**2, x, modulus=2)]], dtype=object)"
      ]
     },
     "execution_count": 24,
     "metadata": {},
     "output_type": "execute_result"
    }
   ],
   "source": [
    "matrix_A = np.array([[polinomio_1,polinomio_2],[polinomio_3,polinomio_4]])\n",
    "omega_1 = np.array([[polinomio_5],[polinomio_4]])\n",
    "vs = np.array([[polinomio_5],[polinomio_4]])\n",
    "omega_0 = np.array([[polinomio_1],[polinomio_4]])\n",
    "T_w = T_w_sk_1(matrix_A=matrix_A, omega_1=omega_1, vs=vs)\n",
    "omega_prime(omega_0=omega_0, T_w = T_w)"
   ]
  }
 ],
 "metadata": {
  "kernelspec": {
   "display_name": "Python 3",
   "language": "python",
   "name": "python3"
  },
  "language_info": {
   "codemirror_mode": {
    "name": "ipython",
    "version": 3
   },
   "file_extension": ".py",
   "mimetype": "text/x-python",
   "name": "python",
   "nbconvert_exporter": "python",
   "pygments_lexer": "ipython3",
   "version": "3.12.2"
  }
 },
 "nbformat": 4,
 "nbformat_minor": 2
}
