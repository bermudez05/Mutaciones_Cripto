{
 "cells": [
  {
   "cell_type": "markdown",
   "metadata": {},
   "source": [
    "<h2>Mutaciones y análisis de Brauer</h2>\n",
    "<p>El siguiente programa computa las semillas formuladas a partir del siguiente vector de polinomios  \n",
    "<math><mi>((1, x)</mi><mi>(1 + x, 1 + x + </mi><msup><mi>x</mi><mn>2</mn></msup><mi>))</mi></math> en el siguiente campo <math><mi>F = </mi><mfrac><msub><mi>Z</mi><mn>2</mn></msub><mi>/(1 + x + </mi><msup><mi>x</mi><mn>2</mn></msup></mi><mi>)</mi></mfrac></math></p> con todos los posibles vectores del campo, comparando asi la vida de cada semilla generada."
   ]
  }
 ],
 "metadata": {
  "kernelspec": {
   "display_name": "Python 3",
   "language": "python",
   "name": "python3"
  },
  "language_info": {
   "codemirror_mode": {
    "name": "ipython",
    "version": 3
   },
   "file_extension": ".py",
   "mimetype": "text/x-python",
   "name": "python",
   "nbconvert_exporter": "python",
   "pygments_lexer": "ipython3",
   "version": "3.12.0"
  }
 },
 "nbformat": 4,
 "nbformat_minor": 2
}
